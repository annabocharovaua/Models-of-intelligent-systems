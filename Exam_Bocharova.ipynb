{
 "cells": [
  {
   "cell_type": "code",
   "execution_count": 55,
   "id": "e85cb6f5",
   "metadata": {},
   "outputs": [
    {
     "data": {
      "text/html": [
       "<div>\n",
       "<style scoped>\n",
       "    .dataframe tbody tr th:only-of-type {\n",
       "        vertical-align: middle;\n",
       "    }\n",
       "\n",
       "    .dataframe tbody tr th {\n",
       "        vertical-align: top;\n",
       "    }\n",
       "\n",
       "    .dataframe thead th {\n",
       "        text-align: right;\n",
       "    }\n",
       "</style>\n",
       "<table border=\"1\" class=\"dataframe\">\n",
       "  <thead>\n",
       "    <tr style=\"text-align: right;\">\n",
       "      <th></th>\n",
       "      <th>Unnamed: 0</th>\n",
       "      <th>Gender</th>\n",
       "      <th>EthnicGroup</th>\n",
       "      <th>ParentEduc</th>\n",
       "      <th>LunchType</th>\n",
       "      <th>TestPrep</th>\n",
       "      <th>ParentMaritalStatus</th>\n",
       "      <th>PracticeSport</th>\n",
       "      <th>IsFirstChild</th>\n",
       "      <th>NrSiblings</th>\n",
       "      <th>TransportMeans</th>\n",
       "      <th>WklyStudyHours</th>\n",
       "      <th>MathScore</th>\n",
       "      <th>ReadingScore</th>\n",
       "      <th>WritingScore</th>\n",
       "    </tr>\n",
       "  </thead>\n",
       "  <tbody>\n",
       "    <tr>\n",
       "      <th>0</th>\n",
       "      <td>0</td>\n",
       "      <td>female</td>\n",
       "      <td>NaN</td>\n",
       "      <td>bachelor's degree</td>\n",
       "      <td>standard</td>\n",
       "      <td>none</td>\n",
       "      <td>married</td>\n",
       "      <td>regularly</td>\n",
       "      <td>yes</td>\n",
       "      <td>3.0</td>\n",
       "      <td>school_bus</td>\n",
       "      <td>&lt; 5</td>\n",
       "      <td>71</td>\n",
       "      <td>71</td>\n",
       "      <td>74</td>\n",
       "    </tr>\n",
       "    <tr>\n",
       "      <th>1</th>\n",
       "      <td>1</td>\n",
       "      <td>female</td>\n",
       "      <td>group C</td>\n",
       "      <td>some college</td>\n",
       "      <td>standard</td>\n",
       "      <td>NaN</td>\n",
       "      <td>married</td>\n",
       "      <td>sometimes</td>\n",
       "      <td>yes</td>\n",
       "      <td>0.0</td>\n",
       "      <td>NaN</td>\n",
       "      <td>5 - 10</td>\n",
       "      <td>69</td>\n",
       "      <td>90</td>\n",
       "      <td>88</td>\n",
       "    </tr>\n",
       "    <tr>\n",
       "      <th>2</th>\n",
       "      <td>2</td>\n",
       "      <td>female</td>\n",
       "      <td>group B</td>\n",
       "      <td>master's degree</td>\n",
       "      <td>standard</td>\n",
       "      <td>none</td>\n",
       "      <td>single</td>\n",
       "      <td>sometimes</td>\n",
       "      <td>yes</td>\n",
       "      <td>4.0</td>\n",
       "      <td>school_bus</td>\n",
       "      <td>&lt; 5</td>\n",
       "      <td>87</td>\n",
       "      <td>93</td>\n",
       "      <td>91</td>\n",
       "    </tr>\n",
       "    <tr>\n",
       "      <th>3</th>\n",
       "      <td>3</td>\n",
       "      <td>male</td>\n",
       "      <td>group A</td>\n",
       "      <td>associate's degree</td>\n",
       "      <td>free/reduced</td>\n",
       "      <td>none</td>\n",
       "      <td>married</td>\n",
       "      <td>never</td>\n",
       "      <td>no</td>\n",
       "      <td>1.0</td>\n",
       "      <td>NaN</td>\n",
       "      <td>5 - 10</td>\n",
       "      <td>45</td>\n",
       "      <td>56</td>\n",
       "      <td>42</td>\n",
       "    </tr>\n",
       "    <tr>\n",
       "      <th>4</th>\n",
       "      <td>4</td>\n",
       "      <td>male</td>\n",
       "      <td>group C</td>\n",
       "      <td>some college</td>\n",
       "      <td>standard</td>\n",
       "      <td>none</td>\n",
       "      <td>married</td>\n",
       "      <td>sometimes</td>\n",
       "      <td>yes</td>\n",
       "      <td>0.0</td>\n",
       "      <td>school_bus</td>\n",
       "      <td>5 - 10</td>\n",
       "      <td>76</td>\n",
       "      <td>78</td>\n",
       "      <td>75</td>\n",
       "    </tr>\n",
       "  </tbody>\n",
       "</table>\n",
       "</div>"
      ],
      "text/plain": [
       "   Unnamed: 0  Gender EthnicGroup          ParentEduc     LunchType TestPrep  \\\n",
       "0           0  female         NaN   bachelor's degree      standard     none   \n",
       "1           1  female     group C        some college      standard      NaN   \n",
       "2           2  female     group B     master's degree      standard     none   \n",
       "3           3    male     group A  associate's degree  free/reduced     none   \n",
       "4           4    male     group C        some college      standard     none   \n",
       "\n",
       "  ParentMaritalStatus PracticeSport IsFirstChild  NrSiblings TransportMeans  \\\n",
       "0             married     regularly          yes         3.0     school_bus   \n",
       "1             married     sometimes          yes         0.0            NaN   \n",
       "2              single     sometimes          yes         4.0     school_bus   \n",
       "3             married         never           no         1.0            NaN   \n",
       "4             married     sometimes          yes         0.0     school_bus   \n",
       "\n",
       "  WklyStudyHours  MathScore  ReadingScore  WritingScore  \n",
       "0            < 5         71            71            74  \n",
       "1         5 - 10         69            90            88  \n",
       "2            < 5         87            93            91  \n",
       "3         5 - 10         45            56            42  \n",
       "4         5 - 10         76            78            75  "
      ]
     },
     "execution_count": 55,
     "metadata": {},
     "output_type": "execute_result"
    }
   ],
   "source": [
    "import pandas as pd\n",
    "\n",
    "df = pd.read_csv(\"students_scores.csv\")\n",
    "\n",
    "df.head()"
   ]
  },
  {
   "cell_type": "markdown",
   "id": "d6dcd839",
   "metadata": {},
   "source": [
    "#     1. Скільки студентів і студенток у наборі даних?"
   ]
  },
  {
   "cell_type": "code",
   "execution_count": 56,
   "id": "bd040be0",
   "metadata": {},
   "outputs": [
    {
     "name": "stdout",
     "output_type": "stream",
     "text": [
      "Кількість студентів:  15217\n",
      "Кількість студенток:  15424\n"
     ]
    }
   ],
   "source": [
    "male_count = (df['Gender'] == 'male').sum() \n",
    "female_count = (df['Gender'] == 'female').sum()\n",
    "\n",
    "print(\"Кількість студентів: \", male_count)\n",
    "print(\"Кількість студенток: \", female_count)"
   ]
  },
  {
   "cell_type": "markdown",
   "id": "277734d6",
   "metadata": {},
   "source": [
    "#  2. Який відсоток студентів чоловічої статі в наборі даних?"
   ]
  },
  {
   "cell_type": "code",
   "execution_count": 59,
   "id": "b41f223e",
   "metadata": {},
   "outputs": [
    {
     "name": "stdout",
     "output_type": "stream",
     "text": [
      "Відсоток студентів чоловічої статі в наборі даних: 49.6622%\n"
     ]
    }
   ],
   "source": [
    "male_percentage = (male_count / df.shape[0]) * 100\n",
    "print(\"Відсоток студентів чоловічої статі в наборі даних: {:.4f}%\".format(male_percentage))"
   ]
  },
  {
   "cell_type": "markdown",
   "id": "30a81acd",
   "metadata": {},
   "source": [
    "# 3. Який відсоток студенток у наборі даних?"
   ]
  },
  {
   "cell_type": "code",
   "execution_count": 60,
   "id": "7f4d79c3",
   "metadata": {},
   "outputs": [
    {
     "name": "stdout",
     "output_type": "stream",
     "text": [
      "Відсоток студенток у наборі даних: 50.3378%\n"
     ]
    }
   ],
   "source": [
    "female_percentage = (female_count / df.shape[0]) * 100\n",
    "\n",
    "print(\"Відсоток студенток у наборі даних: {:.4f}%\".format(female_percentage))"
   ]
  },
  {
   "cell_type": "markdown",
   "id": "0be6a1f7",
   "metadata": {},
   "source": [
    "#  4. Яка етнічна група має найвищий середній бал з математики?"
   ]
  },
  {
   "cell_type": "code",
   "execution_count": 39,
   "id": "059b8f5b",
   "metadata": {},
   "outputs": [
    {
     "name": "stdout",
     "output_type": "stream",
     "text": [
      "Етнічна група з найвищим середнім балом з математики:  group E\n",
      "Середній бал з математики для цієї групи:  75.29893590695373\n"
     ]
    }
   ],
   "source": [
    "# Згруповані дані за етнічною групою та обчисленим середнім балом з математики для кожної групи\n",
    "math_scores_by_ethnic_group = df.groupby('EthnicGroup')['MathScore'].mean()\n",
    "\n",
    "# Пошук еттнічної групи з найвищим середнім балом з математики\n",
    "ethnic_group_with_highest_math_score = math_scores_by_ethnic_group.idxmax()\n",
    "highest_math_score = math_scores_by_ethnic_group.max()\n",
    "\n",
    "print(\"Етнічна група з найвищим середнім балом з математики: \", ethnic_group_with_highest_math_score)\n",
    "print(\"Середній бал з математики для цієї групи: \", highest_math_score)"
   ]
  },
  {
   "cell_type": "markdown",
   "id": "8b1ba654",
   "metadata": {},
   "source": [
    "#  5. Яка етнічна група має найвищий середній бал читання?"
   ]
  },
  {
   "cell_type": "code",
   "execution_count": 38,
   "id": "d3c0f7ce",
   "metadata": {},
   "outputs": [
    {
     "name": "stdout",
     "output_type": "stream",
     "text": [
      "Етнічна група з найвищим середнім балом з читання:  group E\n",
      "Середній бал з читання для цієї групи:  74.25142291512002\n"
     ]
    }
   ],
   "source": [
    "# Згруповані дані за етнічною групою та обчисленим середнім балом з читання для кожної групи\n",
    "reading_scores_by_ethnic_group = df.groupby('EthnicGroup')['ReadingScore'].mean()\n",
    "\n",
    "# Пошук еттнічної групи з найвищим середнім балом з читання\n",
    "ethnic_group_with_highest_reading_score = reading_scores_by_ethnic_group.idxmax()\n",
    "highest_reading_score = reading_scores_by_ethnic_group.max()\n",
    "\n",
    "print(\"Етнічна група з найвищим середнім балом з читання: \", ethnic_group_with_highest_reading_score)\n",
    "print(\"Середній бал з читання для цієї групи: \", highest_reading_score)"
   ]
  },
  {
   "cell_type": "markdown",
   "id": "fbbcea7a",
   "metadata": {},
   "source": [
    "#  6. Яка етнічна група має найвищий середній бал з письма?"
   ]
  },
  {
   "cell_type": "code",
   "execution_count": 37,
   "id": "46f8e55b",
   "metadata": {},
   "outputs": [
    {
     "name": "stdout",
     "output_type": "stream",
     "text": [
      "Етнічна група з найвищим середнім балом з письма:  group E\n",
      "Середній бал з письма для цієї групи:  72.67706013363029\n"
     ]
    }
   ],
   "source": [
    "# Згруповані дані за етнічною групою та обчисленим середнім бало з письма для кожної групи\n",
    "writing_scores_by_ethnic_group = df.groupby('EthnicGroup')['WritingScore'].mean()\n",
    "\n",
    "# Пошук еттнічної групи з найвищим середнім балом з письма\n",
    "ethnic_group_with_highest_writing_score = writing_scores_by_ethnic_group.idxmax()\n",
    "highest_writing_score = writing_scores_by_ethnic_group.max()\n",
    "\n",
    "print(\"Етнічна група з найвищим середнім балом з письма: \", ethnic_group_with_highest_writing_score)\n",
    "print(\"Середній бал з письма для цієї групи: \", highest_writing_score)"
   ]
  },
  {
   "cell_type": "markdown",
   "id": "31569b35",
   "metadata": {},
   "source": [
    "#  7. Який середній бал з математики для студентів, які закінчили курс підготовки до тесту?"
   ]
  },
  {
   "cell_type": "code",
   "execution_count": 36,
   "id": "716bd2cf",
   "metadata": {},
   "outputs": [
    {
     "name": "stdout",
     "output_type": "stream",
     "text": [
      "Середній бал з математики для студентів, які закінчили курс підготовки до тесту:  69.5466599698644\n"
     ]
    }
   ],
   "source": [
    "# Студенти, які закінчили курс підготовки до тесту з математики\n",
    "prepared_math_students = df[df['TestPrep'] == 'completed']\n",
    "\n",
    "#Середній бал з математики для цих студентів\n",
    "average_math_score_prepared = prepared_math_students['MathScore'].mean()\n",
    "\n",
    "print(\"Середній бал з математики для студентів, які закінчили курс підготовки до тесту: \", average_math_score_prepared)"
   ]
  },
  {
   "cell_type": "markdown",
   "id": "4ff0685d",
   "metadata": {},
   "source": [
    "# 8. Який середній бал з читання для студентів, які пройшли курс підготовки до тесту?"
   ]
  },
  {
   "cell_type": "code",
   "execution_count": 35,
   "id": "4a99298e",
   "metadata": {},
   "outputs": [
    {
     "name": "stdout",
     "output_type": "stream",
     "text": [
      "Середній бал з читання для студентів, які пройшли курс підготовки до тесту:  73.73299849321948\n"
     ]
    }
   ],
   "source": [
    "prepared_reading_students = df[df['TestPrep'] == 'completed']\n",
    "\n",
    "average_reading_score_prepared = prepared_reading_students['ReadingScore'].mean()\n",
    "\n",
    "print(\"Середній бал з читання для студентів, які пройшли курс підготовки до тесту: \", average_reading_score_prepared)"
   ]
  },
  {
   "cell_type": "markdown",
   "id": "030a195b",
   "metadata": {},
   "source": [
    "# 9. Який середній бал для студентів, які закінчили курс підготовки до тесту?"
   ]
  },
  {
   "cell_type": "code",
   "execution_count": 34,
   "id": "763be1fe",
   "metadata": {},
   "outputs": [
    {
     "name": "stdout",
     "output_type": "stream",
     "text": [
      "Середній бал для студентів, які закінчили курс підготовки до тесту:  72.66097438473129\n"
     ]
    }
   ],
   "source": [
    "# Студенти, які закінчили курс підготовки до тесту\n",
    "prepared_students = df[df['TestPrep'] == 'completed']\n",
    "\n",
    "#Середній бал для цих студентів з усіх тестів\n",
    "average_score_prepared_students = prepared_students[['MathScore', 'ReadingScore', 'WritingScore']].mean().mean()\n",
    "\n",
    "print(\"Середній бал для студентів, які закінчили курс підготовки до тесту: \", average_score_prepared_students)"
   ]
  },
  {
   "cell_type": "markdown",
   "id": "dc1450d4",
   "metadata": {},
   "source": [
    "#  10. Скільки студентів мають одружених батьків?"
   ]
  },
  {
   "cell_type": "code",
   "execution_count": 32,
   "id": "e4b05919",
   "metadata": {},
   "outputs": [
    {
     "name": "stdout",
     "output_type": "stream",
     "text": [
      "Кількість студентів, які мають одружених батьків:  16844\n"
     ]
    }
   ],
   "source": [
    "# Кількість студентів, які мають одружених батьків\n",
    "married_parents_count = (df['ParentMaritalStatus'] == 'married').sum()\n",
    "\n",
    "print(\"Кількість студентів, які мають одружених батьків: \" , married_parents_count)"
   ]
  },
  {
   "cell_type": "markdown",
   "id": "6c9a6686",
   "metadata": {},
   "source": [
    "# 11. Скільки студентів мають батьків-одинаків?"
   ]
  },
  {
   "cell_type": "code",
   "execution_count": 33,
   "id": "00a8c74f",
   "metadata": {},
   "outputs": [
    {
     "name": "stdout",
     "output_type": "stream",
     "text": [
      "Кількість студентів, які мають батьків-одинаків:  7097\n"
     ]
    }
   ],
   "source": [
    "# Кількість студентів, які мають батьків-одинаків\n",
    "single_parents_count = (df['ParentMaritalStatus'] == 'single').sum()\n",
    "\n",
    "print(\"Кількість студентів, які мають батьків-одинаків: \", single_parents_count)"
   ]
  },
  {
   "cell_type": "markdown",
   "id": "a4ee1b8e",
   "metadata": {},
   "source": [
    "# 12. Чи студенти, які регулярно займаються спортом, мають вищі середні результати з математики, ніж ті, хто ніколи не  займається спортом?"
   ]
  },
  {
   "cell_type": "code",
   "execution_count": 31,
   "id": "3e6c5229",
   "metadata": {},
   "outputs": [
    {
     "name": "stdout",
     "output_type": "stream",
     "text": [
      "Середній бал з математики студентів, які регулярно займаються спортом :  67.83915500787548\n",
      "Середній бал з математики студентів, які НЕ займаються спортом :  64.17107892107892\n",
      "Студенти, які регулярно займаються спортом, мають вищі середні результати з математики.\n"
     ]
    }
   ],
   "source": [
    "# Середні бали з математики студентів, які регулярно займаються спортом і тих, хто не займається спортом\n",
    "average_math_score_sport = df[df['PracticeSport'] == 'regularly']['MathScore'].mean()\n",
    "average_math_score_no_sport = df[df['PracticeSport'] == 'never']['MathScore'].mean()\n",
    "\n",
    "print(\"Середній бал з математики студентів, які регулярно займаються спортом : \", average_math_score_sport)\n",
    "print(\"Середній бал з математики студентів, які НЕ займаються спортом : \", average_math_score_no_sport)\n",
    "\n",
    "if average_math_score_sport > average_math_score_no_sport:\n",
    "    print(\"Студенти, які регулярно займаються спортом, мають вищі середні результати з математики.\")\n",
    "else:\n",
    "    print(\"Студенти, які регулярно займаються спортом, не мають вищих середніх результатів з математики.\")"
   ]
  },
  {
   "cell_type": "markdown",
   "id": "eb2d3e01",
   "metadata": {},
   "source": [
    "# 13. Чи студенти, які регулярно займаються спортом, мають вищі середні результати читання, ніж ті, хто ніколи не займається спортом?"
   ]
  },
  {
   "cell_type": "code",
   "execution_count": 30,
   "id": "ad0c6596",
   "metadata": {},
   "outputs": [
    {
     "name": "stdout",
     "output_type": "stream",
     "text": [
      "Середній бал з читання студентів, які регулярно займаються спортом :  69.94301862318169\n",
      "Середній бал з читання студентів, які НЕ займаються спортом :  68.33766233766234\n",
      "Студенти, які регулярно займаються спортом, мають вищі середні результати з читання.\n"
     ]
    }
   ],
   "source": [
    "# Cередні бали з читання для студентів, які регулярно займаються спортом і тих, хто не займаються спортом\n",
    "average_reading_score_sport = df[df['PracticeSport'] == 'regularly']['ReadingScore'].mean()\n",
    "average_reading_score_no_sport = df[df['PracticeSport'] == 'never']['ReadingScore'].mean()\n",
    "\n",
    "print(\"Середній бал з читання студентів, які регулярно займаються спортом : \", average_reading_score_sport)\n",
    "print(\"Середній бал з читання студентів, які НЕ займаються спортом : \", average_reading_score_no_sport)\n",
    "\n",
    "if average_reading_score_sport > average_reading_score_no_sport:\n",
    "    print(\"Студенти, які регулярно займаються спортом, мають вищі середні результати з читання.\")\n",
    "else:\n",
    "    print(\"Студенти, які регулярно займаються спортом, не мають вищих середніх результатів з читання.\")"
   ]
  },
  {
   "cell_type": "markdown",
   "id": "8fe7d0fa",
   "metadata": {},
   "source": [
    "#  14. Скільки учнів користується шкільним автобусом, щоб дістатися до школи?"
   ]
  },
  {
   "cell_type": "code",
   "execution_count": 28,
   "id": "269789f7",
   "metadata": {},
   "outputs": [
    {
     "name": "stdout",
     "output_type": "stream",
     "text": [
      "Кількість учнів, які користуються шкільним автобусом: 16145\n"
     ]
    }
   ],
   "source": [
    "bus_users_count = (df['TransportMeans'] == 'school_bus').sum()\n",
    "\n",
    "print(\"Кількість учнів, які користуються шкільним автобусом:\", bus_users_count)"
   ]
  },
  {
   "cell_type": "markdown",
   "id": "a09e8f50",
   "metadata": {},
   "source": [
    "# 15. Скільки учнів користується приватним транспортом, щоб дістатися до школи?"
   ]
  },
  {
   "cell_type": "code",
   "execution_count": 41,
   "id": "d2ac7a7a",
   "metadata": {},
   "outputs": [
    {
     "name": "stdout",
     "output_type": "stream",
     "text": [
      "Кількість учнів, які користуються приватним транспортом: 11362\n"
     ]
    }
   ],
   "source": [
    "# Кількість учнів, які користуються приватним транспортом\n",
    "private_transport_users_count = (df['TransportMeans'] == 'private').sum()\n",
    "\n",
    "print(\"Кількість учнів, які користуються приватним транспортом:\", private_transport_users_count)"
   ]
  },
  {
   "cell_type": "markdown",
   "id": "5a56b79b",
   "metadata": {},
   "source": [
    "## Задача класифікації \n",
    "## Передбачте, чи завершив студент курс підготовки до іспиту, на основі його демографічних та академічних даних."
   ]
  },
  {
   "cell_type": "code",
   "execution_count": 42,
   "id": "2122241f",
   "metadata": {},
   "outputs": [],
   "source": [
    "import pandas as pd\n",
    "from sklearn.model_selection import train_test_split\n",
    "from sklearn.ensemble import RandomForestClassifier\n",
    "from sklearn.metrics import accuracy_score, classification_report\n",
    "from sklearn.preprocessing import LabelEncoder"
   ]
  },
  {
   "cell_type": "code",
   "execution_count": 45,
   "id": "352fd20a",
   "metadata": {},
   "outputs": [
    {
     "name": "stdout",
     "output_type": "stream",
     "text": [
      "Точність моделі: 0.7258595464520848\n"
     ]
    }
   ],
   "source": [
    "category_columns = ['Gender', 'EthnicGroup', 'ParentEduc', 'LunchType', 'ParentMaritalStatus', 'PracticeSport', 'IsFirstChild', 'TransportMeans', 'WklyStudyHours']\n",
    "\n",
    "for column in category_columns:\n",
    "    df[column] = LabelEncoder().fit_transform(df[column].astype(str))  \n",
    "\n",
    "# Видалення рядків з пропущеними значеннями\n",
    "df = df.dropna()\n",
    "\n",
    "# Визначення вхідних (X) і цільових (y) змінних\n",
    "X = df.drop('TestPrep', axis=1)\n",
    "y = df['TestPrep']\n",
    "\n",
    "# Розбиття даних на тренувальний і тестовий набори\n",
    "X_train, X_test, y_train, y_test = train_test_split(X, y, test_size=0.2, random_state=42)\n",
    "\n",
    "# Створення та навчання моделі випадкового лісу\n",
    "rf_clf = RandomForestClassifier(n_estimators=100, random_state=42)\n",
    "rf_clf.fit(X_train, y_train)\n",
    "\n",
    "# Передбачення на тестових даних і оцінка точності\n",
    "y_pred = rf_clf.predict(X_test)\n",
    "accuracy = accuracy_score(y_test, y_pred)\n",
    "print(f\"Точність моделі: {accuracy}\")"
   ]
  },
  {
   "cell_type": "code",
   "execution_count": null,
   "id": "fffc6cda",
   "metadata": {},
   "outputs": [],
   "source": []
  }
 ],
 "metadata": {
  "kernelspec": {
   "display_name": "Python 3 (ipykernel)",
   "language": "python",
   "name": "python3"
  },
  "language_info": {
   "codemirror_mode": {
    "name": "ipython",
    "version": 3
   },
   "file_extension": ".py",
   "mimetype": "text/x-python",
   "name": "python",
   "nbconvert_exporter": "python",
   "pygments_lexer": "ipython3",
   "version": "3.11.5"
  }
 },
 "nbformat": 4,
 "nbformat_minor": 5
}
